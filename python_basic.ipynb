{
 "cells": [
  {
   "cell_type": "code",
   "execution_count": 1,
   "id": "0d840691-64c0-455c-a7c6-301ef45bff80",
   "metadata": {
    "tags": []
   },
   "outputs": [
    {
     "data": {
      "application/javascript": [
       "if (window.IPython && IPython.notebook.kernel) IPython.notebook.kernel.execute('jovian.utils.jupyter.get_notebook_name_saved = lambda: \"' + IPython.notebook.notebook_name + '\"')"
      ],
      "text/plain": [
       "<IPython.core.display.Javascript object>"
      ]
     },
     "metadata": {},
     "output_type": "display_data"
    }
   ],
   "source": [
    "import jovian"
   ]
  },
  {
   "cell_type": "markdown",
   "id": "95442773-9550-451f-b8aa-dc208fb44ea1",
   "metadata": {
    "tags": []
   },
   "source": [
    "project_name='python-practice-assignment'"
   ]
  },
  {
   "cell_type": "markdown",
   "id": "54e850c3-236b-430f-851f-17db6794dcbc",
   "metadata": {},
   "source": [
    "Problem 4 - Flying to the Bahamas\n",
    "\n",
    "Q11: A travel company wants to fly a plane to the Bahamas. Flying the plane costs 5000 dollars. So far, 29 people have signed up for the trip. If the company charges 200 dollars per ticket, what is the profit made by the company?"
   ]
  },
  {
   "cell_type": "code",
   "execution_count": 12,
   "id": "f62a1a34-e5bb-46a6-a972-6b1f8e4609cd",
   "metadata": {
    "tags": []
   },
   "outputs": [
    {
     "name": "stdout",
     "output_type": "stream",
     "text": [
      "Profit made by the company is 800 dollars\n"
     ]
    }
   ],
   "source": [
    "cost_of_flying = 5000\n",
    "number_of_people_signup = 29\n",
    "price_of_the_ticket = 200\n",
    "profit = (number_of_people_signup * price_of_the_ticket) - cost_of_flying\n",
    "profit\n",
    "print('Profit made by the company is {} dollars'.format(profit))"
   ]
  },
  {
   "cell_type": "markdown",
   "id": "44c9948b-9d09-4a12-a64f-ba3a6faa051c",
   "metadata": {},
   "source": [
    "Q11b (Optional): Out of the 29 people who took the flight, only 12 buy tickets to return from the Bahamas on the same plane. If the flying the plane back also costs 5000 dollars, and does the company make an overall profit or loss? The company charges the same fee of 200 dollars per ticket for the return flight."
   ]
  },
  {
   "cell_type": "code",
   "execution_count": 19,
   "id": "651e3bfb-0c1b-48a1-9843-d82c255131df",
   "metadata": {
    "tags": []
   },
   "outputs": [],
   "source": [
    "num_of_people_returning = 12\n",
    "cost_of_flying = 5000\n",
    "cost_of_ticket = 200\n",
    "profit = (num_of_people_returning * cost_of_ticket) - cost_of_flying\n",
    "#profit += cost_of_flying"
   ]
  },
  {
   "cell_type": "code",
   "execution_count": 20,
   "id": "0193966d-4f98-45c7-b525-222c0d5fadb1",
   "metadata": {
    "tags": []
   },
   "outputs": [
    {
     "name": "stdout",
     "output_type": "stream",
     "text": [
      "The company made a loss of -2600 dollars\n"
     ]
    }
   ],
   "source": [
    "if (profit > 0):\n",
    "    print('The company made a profit of {} dollars'.format(profit))\n",
    "else:\n",
    "     print('The company made a loss of {} dollars'.format(profit))"
   ]
  },
  {
   "cell_type": "markdown",
   "id": "4a1ef4b4-afdd-4812-826b-0bd0844822c9",
   "metadata": {},
   "source": [
    "Problem 5 - Twitter Sentiment Analysis\n",
    "\n",
    "Are your ready to perform some Data Analysis with Python? In this problem, we'll analyze some fictional tweets and find out whether the overall sentiment of Twitter users is happy or sad. This is a simplified version of an important real world problem called sentiment analysis.\n",
    "\n",
    "Before we begin, we need a list of tweets to analyze. We're picking a small number of tweets here, but the exact same analysis can also be done for thousands, or even millions of tweets. The collection of data that we perform analysis on is often called a dataset."
   ]
  },
  {
   "cell_type": "code",
   "execution_count": 1,
   "id": "d2b5bf5c-3b99-466d-8f3c-ffee5c00a739",
   "metadata": {
    "tags": []
   },
   "outputs": [],
   "source": [
    "tweets = [\n",
    "    \"Wow, what a great day today!! #sunshine\",\n",
    "    \"I feel sad about the things going on around us. #covid19\",\n",
    "    \"I'm really excited to learn Python with @JovianML #zerotopandas\",\n",
    "    \"This is a really nice song. #linkinpark\",\n",
    "    \"The python programming language is useful for data science\",\n",
    "    \"Why do bad things happen to me?\",\n",
    "    \"Apple announces the release of the new iPhone 12. Fans are excited.\",\n",
    "    \"Spent my day with family!! #happy\",\n",
    "    \"Check out my blog post on common string operations in Python. #zerotopandas\",\n",
    "    \"Freecodecamp has great coding tutorials. #skillup\"\n",
    "]"
   ]
  },
  {
   "cell_type": "code",
   "execution_count": 85,
   "id": "024089c5-2f1c-4584-9ac6-51f3c7cc5ef9",
   "metadata": {
    "tags": []
   },
   "outputs": [
    {
     "name": "stdout",
     "output_type": "stream",
     "text": [
      "510\n"
     ]
    }
   ],
   "source": [
    "totalLength = 0\n",
    "for x in tweets:\n",
    "    totalLength += len(x)\n",
    "    \n",
    "print(totalLength)"
   ]
  },
  {
   "cell_type": "code",
   "execution_count": 87,
   "id": "3821b09d-0b20-4bb8-9a64-e921333dbe9a",
   "metadata": {
    "tags": []
   },
   "outputs": [
    {
     "data": {
      "text/plain": [
       "range(0, 39)"
      ]
     },
     "execution_count": 87,
     "metadata": {},
     "output_type": "execute_result"
    }
   ],
   "source": [
    "range(len(tweets[0]))"
   ]
  },
  {
   "cell_type": "code",
   "execution_count": 4,
   "id": "c5dcdb17-8dc7-489d-9e6c-3adfb66db258",
   "metadata": {
    "tags": []
   },
   "outputs": [
    {
     "data": {
      "text/plain": [
       "10"
      ]
     },
     "execution_count": 4,
     "metadata": {},
     "output_type": "execute_result"
    }
   ],
   "source": [
    "num_of_tweets = len(tweets)\n",
    "num_of_tweets"
   ]
  },
  {
   "cell_type": "code",
   "execution_count": 5,
   "id": "3e0ae3eb-0f10-494b-a9be-fd1475af0683",
   "metadata": {
    "tags": []
   },
   "outputs": [],
   "source": [
    "happy_words = ['great', 'excited', 'happy', 'nice', 'wonderful', 'amazing', 'good', 'best']\n",
    "sad_words = ['sad', 'bad', 'tragic', 'unhappy', 'worst']"
   ]
  },
  {
   "cell_type": "markdown",
   "id": "28952f14-5d18-458e-bd6f-f443a406930f",
   "metadata": {},
   "source": [
    "To identify whether a tweet is happy, we can simply check if contains any of the words from happy_words. Here's an example:"
   ]
  },
  {
   "cell_type": "code",
   "execution_count": 7,
   "id": "e67b031c-ef23-4fdb-a1f8-2628d8467ba3",
   "metadata": {
    "tags": []
   },
   "outputs": [
    {
     "data": {
      "text/plain": [
       "'Wow, what a great day today!! #sunshine'"
      ]
     },
     "execution_count": 7,
     "metadata": {},
     "output_type": "execute_result"
    }
   ],
   "source": [
    "sample_tweet = tweets[0]\n",
    "sample_tweet"
   ]
  },
  {
   "cell_type": "code",
   "execution_count": 15,
   "id": "fd7d41a1-db67-4d1e-b40f-7f164c38e96f",
   "metadata": {
    "tags": []
   },
   "outputs": [],
   "source": [
    "def Checker():\n",
    "    for word in happy_words:\n",
    "        if word in sample_tweet:\n",
    "            return True\n",
    "        else:\n",
    "            return False"
   ]
  },
  {
   "cell_type": "code",
   "execution_count": 16,
   "id": "89b17b25-4339-45d4-a172-084973e4cc4e",
   "metadata": {
    "tags": []
   },
   "outputs": [
    {
     "name": "stdout",
     "output_type": "stream",
     "text": [
      "True\n"
     ]
    }
   ],
   "source": [
    "answer = Checker()\n",
    "print(answer)"
   ]
  },
  {
   "cell_type": "markdown",
   "id": "ae61ace0-6cc3-4f9d-be9c-f80688db8cb5",
   "metadata": {
    "tags": []
   },
   "source": [
    "**Q13: Determine the number of tweets in the dataset that can be classified as happy.**\n",
    "\n",
    "*Hint*: You'll need to use a loop inside another loop to do this. Use the code from the example shown above."
   ]
  },
  {
   "cell_type": "code",
   "execution_count": 44,
   "id": "aa6f161a-be2e-4d5b-b105-54d96b17e2ba",
   "metadata": {
    "tags": []
   },
   "outputs": [],
   "source": [
    "happy_count = 0\n",
    "sad_count = 0\n",
    "\n",
    "for word in happy_words:\n",
    "    for happy_word in tweets:\n",
    "        if word in happy_word:\n",
    "            happy_count += 1\n",
    "            \n",
    "for word in sad_words:\n",
    "    for sad_word in tweets:\n",
    "        if word in sad_word:\n",
    "            sad_count += 1\n",
    "                "
   ]
  },
  {
   "cell_type": "code",
   "execution_count": 45,
   "id": "ee49d0de-9e08-438c-92d9-19a45169a067",
   "metadata": {
    "tags": []
   },
   "outputs": [
    {
     "name": "stdout",
     "output_type": "stream",
     "text": [
      "Number of happy words are 6 and number of sad words are 2\n"
     ]
    }
   ],
   "source": [
    "print(\"Number of happy words are {} and number of sad words are {}\".format(happy_count, sad_count))"
   ]
  },
  {
   "cell_type": "code",
   "execution_count": 51,
   "id": "4c33429b-998d-4e7a-bb15-b38b8e244c4c",
   "metadata": {
    "tags": []
   },
   "outputs": [
    {
     "name": "stdout",
     "output_type": "stream",
     "text": [
      "0.6\n"
     ]
    }
   ],
   "source": [
    "happy_fraction = happy_count / len(tweets)\n",
    "print(happy_fraction)"
   ]
  },
  {
   "cell_type": "markdown",
   "id": "540d58ca-802b-4d44-b5b4-a40f0cded93c",
   "metadata": {},
   "source": [
    "Q16b (Optional): Calculate the sentiment score, which is defined as the difference betweek the fraction of happy tweets and the fraction of sad tweets."
   ]
  },
  {
   "cell_type": "code",
   "execution_count": 47,
   "id": "32d31dd1-d7f6-4809-91c7-24d9a7549592",
   "metadata": {
    "tags": []
   },
   "outputs": [
    {
     "data": {
      "text/plain": [
       "0.2"
      ]
     },
     "execution_count": 47,
     "metadata": {},
     "output_type": "execute_result"
    }
   ],
   "source": [
    "sad_fraction = sad_count / len(tweets)\n",
    "sad_fraction"
   ]
  },
  {
   "cell_type": "code",
   "execution_count": 48,
   "id": "00808ff3-8af9-4e6c-875d-89075b0fc24f",
   "metadata": {
    "tags": []
   },
   "outputs": [
    {
     "name": "stdout",
     "output_type": "stream",
     "text": [
      "The sentiment score for the given tweets is 0.39999999999999997\n"
     ]
    }
   ],
   "source": [
    "sentiment_score = happy_fraction - sad_fraction\n",
    "print(\"The sentiment score for the given tweets is\", sentiment_score)"
   ]
  },
  {
   "cell_type": "markdown",
   "id": "7c46fb93-bc5d-4c2a-8ef0-dc69130d2bbf",
   "metadata": {},
   "source": [
    "Finally, it's also important to track how many tweets are neutral i.e. neither happy nor sad. If a large fraction of tweets are marked neutral, maybe we need to improve our lists of happy and sad words.\n",
    "\n",
    "Q16d (Optional): What is the fraction of tweets that are neutral i.e. neither happy nor sad."
   ]
  },
  {
   "cell_type": "code",
   "execution_count": 83,
   "id": "c335db21-94de-4eb0-b9d2-96890d5698ee",
   "metadata": {
    "tags": []
   },
   "outputs": [],
   "source": [
    "totalLength = 100\n",
    "for word in happy_words:\n",
    "    for happy_word in tweets:\n",
    "        if word in happy_words:\n",
    "            totalLength -= 1\n",
    "\n",
    "for word in sad_words:\n",
    "    for sad_word in tweets:\n",
    "        if word in sad_word:\n",
    "            totalLength -= 1"
   ]
  },
  {
   "cell_type": "code",
   "execution_count": 84,
   "id": "85891041-71a3-44d6-8482-04d348820b5c",
   "metadata": {
    "tags": []
   },
   "outputs": [
    {
     "name": "stdout",
     "output_type": "stream",
     "text": [
      "18\n"
     ]
    }
   ],
   "source": [
    "print(totalLength)"
   ]
  },
  {
   "cell_type": "code",
   "execution_count": null,
   "id": "73282053-73eb-4ae7-ac0b-d421c9cb95d0",
   "metadata": {},
   "outputs": [],
   "source": []
  }
 ],
 "metadata": {
  "kernelspec": {
   "display_name": "Python 3 (ipykernel)",
   "language": "python",
   "name": "python3"
  },
  "language_info": {
   "codemirror_mode": {
    "name": "ipython",
    "version": 3
   },
   "file_extension": ".py",
   "mimetype": "text/x-python",
   "name": "python",
   "nbconvert_exporter": "python",
   "pygments_lexer": "ipython3",
   "version": "3.11.5"
  }
 },
 "nbformat": 4,
 "nbformat_minor": 5
}
